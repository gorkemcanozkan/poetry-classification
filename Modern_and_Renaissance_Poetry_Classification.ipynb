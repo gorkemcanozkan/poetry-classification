{
  "nbformat": 4,
  "nbformat_minor": 0,
  "metadata": {
    "colab": {
      "name": "Modern and Renaissance Poetry Classification.ipynb",
      "provenance": [],
      "collapsed_sections": []
    },
    "kernelspec": {
      "name": "python3",
      "display_name": "Python 3"
    },
    "language_info": {
      "name": "python"
    }
  },
  "cells": [
    {
      "cell_type": "markdown",
      "metadata": {
        "id": "rGIwwhJUM_9U"
      },
      "source": [
        "<h1><strong>Poetry Classification</strong></h1>\n",
        "\n",
        "In this project, I will try to classify poetry ages according to their content."
      ]
    },
    {
      "cell_type": "code",
      "metadata": {
        "id": "PcKjbUr-M-a3"
      },
      "source": [
        "#First, I am importing the dependencies. The data is from kaggle.com\n",
        "\n",
        "import numpy as np\n",
        "import pandas as pd\n",
        "import seaborn as sns\n",
        "from nltk.corpus import stopwords\n",
        "from sklearn import preprocessing\n",
        "from sklearn.model_selection import train_test_split\n",
        "from sklearn.feature_extraction.text import CountVectorizer, TfidfVectorizer\n",
        "from sklearn.metrics import classification_report, confusion_matrix\n",
        "from sklearn.metrics import accuracy_score\n",
        "from wordcloud import WordCloud, STOPWORDS\n",
        "from keras.preprocessing.text import Tokenizer\n",
        "from sklearn.tree import DecisionTreeClassifier\n",
        "import tensorflow as tf\n",
        "from tensorflow.keras.layers import GRU, LSTM, Embedding\n",
        "from tensorflow.keras.callbacks import EarlyStopping\n",
        "from tensorflow.keras import optimizers\n",
        "from tensorflow.keras.layers import Activation, Dense, Bidirectional\n",
        "import gc\n",
        "import re"
      ],
      "execution_count": 5,
      "outputs": []
    },
    {
      "cell_type": "code",
      "metadata": {
        "id": "5Uc0VhZlNvpI"
      },
      "source": [
        "#I'm importing the data\n",
        "df=pd.read_csv(\"poems.csv\")"
      ],
      "execution_count": 7,
      "outputs": []
    },
    {
      "cell_type": "code",
      "metadata": {
        "colab": {
          "base_uri": "https://localhost:8080/",
          "height": 289
        },
        "id": "5NEYH9GgOulM",
        "outputId": "8aa64f97-df82-4ea4-b91b-426be14128ca"
      },
      "source": [
        "#Exploring the data, looking at its shape, and the unique values of different features\n",
        "df.head()"
      ],
      "execution_count": 8,
      "outputs": [
        {
          "output_type": "execute_result",
          "data": {
            "text/html": [
              "<div>\n",
              "<style scoped>\n",
              "    .dataframe tbody tr th:only-of-type {\n",
              "        vertical-align: middle;\n",
              "    }\n",
              "\n",
              "    .dataframe tbody tr th {\n",
              "        vertical-align: top;\n",
              "    }\n",
              "\n",
              "    .dataframe thead th {\n",
              "        text-align: right;\n",
              "    }\n",
              "</style>\n",
              "<table border=\"1\" class=\"dataframe\">\n",
              "  <thead>\n",
              "    <tr style=\"text-align: right;\">\n",
              "      <th></th>\n",
              "      <th>author</th>\n",
              "      <th>content</th>\n",
              "      <th>poem name</th>\n",
              "      <th>age</th>\n",
              "      <th>type</th>\n",
              "    </tr>\n",
              "  </thead>\n",
              "  <tbody>\n",
              "    <tr>\n",
              "      <th>0</th>\n",
              "      <td>WILLIAM SHAKESPEARE</td>\n",
              "      <td>Let the bird of loudest lay\\r\\nOn the sole Ara...</td>\n",
              "      <td>The Phoenix and the Turtle</td>\n",
              "      <td>Renaissance</td>\n",
              "      <td>Mythology &amp; Folklore</td>\n",
              "    </tr>\n",
              "    <tr>\n",
              "      <th>1</th>\n",
              "      <td>DUCHESS OF NEWCASTLE MARGARET CAVENDISH</td>\n",
              "      <td>Sir Charles into my chamber coming in,\\r\\nWhen...</td>\n",
              "      <td>An Epilogue to the Above</td>\n",
              "      <td>Renaissance</td>\n",
              "      <td>Mythology &amp; Folklore</td>\n",
              "    </tr>\n",
              "    <tr>\n",
              "      <th>2</th>\n",
              "      <td>THOMAS BASTARD</td>\n",
              "      <td>Our vice runs beyond all that old men saw,\\r\\n...</td>\n",
              "      <td>Book 7, Epigram 42</td>\n",
              "      <td>Renaissance</td>\n",
              "      <td>Mythology &amp; Folklore</td>\n",
              "    </tr>\n",
              "    <tr>\n",
              "      <th>3</th>\n",
              "      <td>EDMUND SPENSER</td>\n",
              "      <td>Lo I the man, whose Muse whilome did maske,\\r\\...</td>\n",
              "      <td>from The Faerie Queene: Book I, Canto I</td>\n",
              "      <td>Renaissance</td>\n",
              "      <td>Mythology &amp; Folklore</td>\n",
              "    </tr>\n",
              "    <tr>\n",
              "      <th>4</th>\n",
              "      <td>RICHARD BARNFIELD</td>\n",
              "      <td>Long have I longd to see my love againe,\\r\\nSt...</td>\n",
              "      <td>Sonnet 16</td>\n",
              "      <td>Renaissance</td>\n",
              "      <td>Mythology &amp; Folklore</td>\n",
              "    </tr>\n",
              "  </tbody>\n",
              "</table>\n",
              "</div>"
            ],
            "text/plain": [
              "                                    author  ...                  type\n",
              "0                      WILLIAM SHAKESPEARE  ...  Mythology & Folklore\n",
              "1  DUCHESS OF NEWCASTLE MARGARET CAVENDISH  ...  Mythology & Folklore\n",
              "2                           THOMAS BASTARD  ...  Mythology & Folklore\n",
              "3                           EDMUND SPENSER  ...  Mythology & Folklore\n",
              "4                        RICHARD BARNFIELD  ...  Mythology & Folklore\n",
              "\n",
              "[5 rows x 5 columns]"
            ]
          },
          "metadata": {
            "tags": []
          },
          "execution_count": 8
        }
      ]
    },
    {
      "cell_type": "code",
      "metadata": {
        "colab": {
          "base_uri": "https://localhost:8080/"
        },
        "id": "yAAFjQ55PPjU",
        "outputId": "a49eff90-21b8-4e80-b3bc-f9cf09529dfa"
      },
      "source": [
        "df.shape"
      ],
      "execution_count": 9,
      "outputs": [
        {
          "output_type": "execute_result",
          "data": {
            "text/plain": [
              "(573, 5)"
            ]
          },
          "metadata": {
            "tags": []
          },
          "execution_count": 9
        }
      ]
    },
    {
      "cell_type": "code",
      "metadata": {
        "colab": {
          "base_uri": "https://localhost:8080/"
        },
        "id": "43vLyUE1PeuR",
        "outputId": "504e8a01-79e2-4eed-f859-098943ca6cb3"
      },
      "source": [
        "df[\"author\"].unique()"
      ],
      "execution_count": 12,
      "outputs": [
        {
          "output_type": "execute_result",
          "data": {
            "text/plain": [
              "array(['WILLIAM SHAKESPEARE', 'DUCHESS OF NEWCASTLE MARGARET CAVENDISH',\n",
              "       'THOMAS BASTARD', 'EDMUND SPENSER', 'RICHARD BARNFIELD',\n",
              "       'SIR WALTER RALEGH', 'QUEEN ELIZABETH I', 'JOHN DONNE',\n",
              "       'JOHN SKELTON', 'CHRISTOPHER MARLOWE', 'LADY MARY WROTH',\n",
              "       'ROBERT SOUTHWELL, SJ', 'WILLIAM BYRD', 'GEORGE GASCOIGNE',\n",
              "       'HENRY VIII, KING OF ENGLAND', 'SIR THOMAS WYATT', 'EN JONSON',\n",
              "       'ORLANDO GIBBONS', 'THOMAS NASHE', 'SIR PHILIP SIDNEY',\n",
              "       'SECOND BARON VAUX OF HARROWDEN THOMAS, LORD VAUX',\n",
              "       'HENRY HOWARD, EARL OF SURREY', 'GEORGE CHAPMAN', 'THOMAS CAMPION',\n",
              "       'ISABELLA WHITNEY', 'SAMUEL DANIEL', 'THOMAS HEYWOOD',\n",
              "       'GIOVANNI BATTISTA GUARINI', 'SIR EDWARD DYER', 'THOMAS LODGE',\n",
              "       'JOHN FLETCHER', 'EDGAR LEE MASTERS', 'WILLIAM BUTLER YEATS',\n",
              "       'FORD MADOX FORD', 'IVOR GURNEY', 'CARL SANDBURG', 'EZRA POUND',\n",
              "       'ELINOR WYLIE', 'GEORGE SANTAYANA', 'LOUISE BOGAN',\n",
              "       'KENNETH SLESSOR', 'HART CRANE', 'D. H. LAWRENCE',\n",
              "       'HUGH MACDIARMID', 'E. E. CUMMINGS', 'LOUIS UNTERMEYER',\n",
              "       'WALLACE STEVENS', 'MARJORIE PICKTHALL', 'RICHARD ALDINGTON',\n",
              "       'GUILLAUME APOLLINAIRE', 'SAMUEL GREENBERG', 'STEPHEN SPENDER',\n",
              "       'EDITH SITWELL', 'PAUL LAURENCE DUNBAR', 'SARA TEASDALE',\n",
              "       'MINA LOY', 'MARIANNE MOORE', 'ASIL BUNTING', 'MICHAEL ANANIA',\n",
              "       'ARCHIBALD MACLEISH', 'CONRAD AIKEN', 'MALCOLM COWLEY',\n",
              "       'KATHERINE MANSFIELD', 'T. S. ELIOT', 'GERTRUDE STEIN',\n",
              "       'JAMES JOYCE', 'KENNETH FEARING'], dtype=object)"
            ]
          },
          "metadata": {
            "tags": []
          },
          "execution_count": 12
        }
      ]
    },
    {
      "cell_type": "code",
      "metadata": {
        "colab": {
          "base_uri": "https://localhost:8080/"
        },
        "id": "SrvLb-DbPiq8",
        "outputId": "51c7850d-7ba4-42bc-9221-e57fc05dddb4"
      },
      "source": [
        "df[\"age\"].unique()"
      ],
      "execution_count": 13,
      "outputs": [
        {
          "output_type": "execute_result",
          "data": {
            "text/plain": [
              "array(['Renaissance', 'Modern'], dtype=object)"
            ]
          },
          "metadata": {
            "tags": []
          },
          "execution_count": 13
        }
      ]
    },
    {
      "cell_type": "code",
      "metadata": {
        "colab": {
          "base_uri": "https://localhost:8080/"
        },
        "id": "Shd_oFgcPrT_",
        "outputId": "133fa3ab-87b7-4c9a-c2ed-20275b491006"
      },
      "source": [
        "df[\"type\"].unique()"
      ],
      "execution_count": 14,
      "outputs": [
        {
          "output_type": "execute_result",
          "data": {
            "text/plain": [
              "array(['Mythology & Folklore', 'Nature', 'Love'], dtype=object)"
            ]
          },
          "metadata": {
            "tags": []
          },
          "execution_count": 14
        }
      ]
    },
    {
      "cell_type": "code",
      "metadata": {
        "id": "R1x5S5OUPtMe"
      },
      "source": [
        "#I'm manipulating the data here, by removing all the noisy special and numeric characters that are nothing to do with the next steps\n",
        "\n",
        "def character_normalization(content, remove_digits=True):\n",
        "    content=re.sub('[^a-zA-Z.\\d\\s]', '',content)\n",
        "    return content\n",
        "df[\"content\"]=df[\"content\"].apply(character_normalization)"
      ],
      "execution_count": 17,
      "outputs": []
    },
    {
      "cell_type": "code",
      "metadata": {
        "colab": {
          "base_uri": "https://localhost:8080/",
          "height": 589
        },
        "id": "msnBOXnJQtl4",
        "outputId": "42a8ae37-a130-439c-ffb1-3b272a0d1383"
      },
      "source": [
        "#Since there are 2 types of ages, I'm changing them to zeros and ones so that I can classify the content as 0 or 1.\n",
        "\n",
        "from sklearn.preprocessing import LabelEncoder\n",
        "le=LabelEncoder()\n",
        "df[\"age\"]=le.fit_transform(df[\"age\"])\n",
        "df"
      ],
      "execution_count": 19,
      "outputs": [
        {
          "output_type": "execute_result",
          "data": {
            "text/html": [
              "<div>\n",
              "<style scoped>\n",
              "    .dataframe tbody tr th:only-of-type {\n",
              "        vertical-align: middle;\n",
              "    }\n",
              "\n",
              "    .dataframe tbody tr th {\n",
              "        vertical-align: top;\n",
              "    }\n",
              "\n",
              "    .dataframe thead th {\n",
              "        text-align: right;\n",
              "    }\n",
              "</style>\n",
              "<table border=\"1\" class=\"dataframe\">\n",
              "  <thead>\n",
              "    <tr style=\"text-align: right;\">\n",
              "      <th></th>\n",
              "      <th>author</th>\n",
              "      <th>content</th>\n",
              "      <th>poem name</th>\n",
              "      <th>age</th>\n",
              "      <th>type</th>\n",
              "    </tr>\n",
              "  </thead>\n",
              "  <tbody>\n",
              "    <tr>\n",
              "      <th>0</th>\n",
              "      <td>WILLIAM SHAKESPEARE</td>\n",
              "      <td>Let the bird of loudest lay\\r\\nOn the sole Ara...</td>\n",
              "      <td>The Phoenix and the Turtle</td>\n",
              "      <td>1</td>\n",
              "      <td>Mythology &amp; Folklore</td>\n",
              "    </tr>\n",
              "    <tr>\n",
              "      <th>1</th>\n",
              "      <td>DUCHESS OF NEWCASTLE MARGARET CAVENDISH</td>\n",
              "      <td>Sir Charles into my chamber coming in\\r\\nWhen ...</td>\n",
              "      <td>An Epilogue to the Above</td>\n",
              "      <td>1</td>\n",
              "      <td>Mythology &amp; Folklore</td>\n",
              "    </tr>\n",
              "    <tr>\n",
              "      <th>2</th>\n",
              "      <td>THOMAS BASTARD</td>\n",
              "      <td>Our vice runs beyond all that old men saw\\r\\nA...</td>\n",
              "      <td>Book 7, Epigram 42</td>\n",
              "      <td>1</td>\n",
              "      <td>Mythology &amp; Folklore</td>\n",
              "    </tr>\n",
              "    <tr>\n",
              "      <th>3</th>\n",
              "      <td>EDMUND SPENSER</td>\n",
              "      <td>Lo I the man whose Muse whilome did maske\\r\\nA...</td>\n",
              "      <td>from The Faerie Queene: Book I, Canto I</td>\n",
              "      <td>1</td>\n",
              "      <td>Mythology &amp; Folklore</td>\n",
              "    </tr>\n",
              "    <tr>\n",
              "      <th>4</th>\n",
              "      <td>RICHARD BARNFIELD</td>\n",
              "      <td>Long have I longd to see my love againe\\r\\nSti...</td>\n",
              "      <td>Sonnet 16</td>\n",
              "      <td>1</td>\n",
              "      <td>Mythology &amp; Folklore</td>\n",
              "    </tr>\n",
              "    <tr>\n",
              "      <th>...</th>\n",
              "      <td>...</td>\n",
              "      <td>...</td>\n",
              "      <td>...</td>\n",
              "      <td>...</td>\n",
              "      <td>...</td>\n",
              "    </tr>\n",
              "    <tr>\n",
              "      <th>568</th>\n",
              "      <td>SARA TEASDALE</td>\n",
              "      <td>With the man I love who loves me not\\r\\nI walk...</td>\n",
              "      <td>Union Square</td>\n",
              "      <td>0</td>\n",
              "      <td>Love</td>\n",
              "    </tr>\n",
              "    <tr>\n",
              "      <th>569</th>\n",
              "      <td>HART CRANE</td>\n",
              "      <td>Hart Crane Voyages I II III IV V VI from The C...</td>\n",
              "      <td>Voyages</td>\n",
              "      <td>0</td>\n",
              "      <td>Love</td>\n",
              "    </tr>\n",
              "    <tr>\n",
              "      <th>570</th>\n",
              "      <td>WILLIAM BUTLER YEATS</td>\n",
              "      <td>When you are old and grey and full of sleep\\r\\...</td>\n",
              "      <td>When You Are Old</td>\n",
              "      <td>0</td>\n",
              "      <td>Love</td>\n",
              "    </tr>\n",
              "    <tr>\n",
              "      <th>571</th>\n",
              "      <td>CARL SANDBURG</td>\n",
              "      <td>Give me hunger\\r\\nO you gods that sit and give...</td>\n",
              "      <td>At a Window</td>\n",
              "      <td>0</td>\n",
              "      <td>Love</td>\n",
              "    </tr>\n",
              "    <tr>\n",
              "      <th>572</th>\n",
              "      <td>RICHARD ALDINGTON</td>\n",
              "      <td>Potuia potuia\\r\\nWhite grave goddess\\r\\nPity m...</td>\n",
              "      <td>To a Greek Marble</td>\n",
              "      <td>0</td>\n",
              "      <td>Love</td>\n",
              "    </tr>\n",
              "  </tbody>\n",
              "</table>\n",
              "<p>573 rows × 5 columns</p>\n",
              "</div>"
            ],
            "text/plain": [
              "                                      author  ...                  type\n",
              "0                        WILLIAM SHAKESPEARE  ...  Mythology & Folklore\n",
              "1    DUCHESS OF NEWCASTLE MARGARET CAVENDISH  ...  Mythology & Folklore\n",
              "2                             THOMAS BASTARD  ...  Mythology & Folklore\n",
              "3                             EDMUND SPENSER  ...  Mythology & Folklore\n",
              "4                          RICHARD BARNFIELD  ...  Mythology & Folklore\n",
              "..                                       ...  ...                   ...\n",
              "568                            SARA TEASDALE  ...                  Love\n",
              "569                               HART CRANE  ...                  Love\n",
              "570                     WILLIAM BUTLER YEATS  ...                  Love\n",
              "571                            CARL SANDBURG  ...                  Love\n",
              "572                        RICHARD ALDINGTON  ...                  Love\n",
              "\n",
              "[573 rows x 5 columns]"
            ]
          },
          "metadata": {
            "tags": []
          },
          "execution_count": 19
        }
      ]
    },
    {
      "cell_type": "code",
      "metadata": {
        "id": "UuNLKhBYRBtg"
      },
      "source": [
        "#Removing all the unnecessary features from the data\n",
        "\n",
        "df2=df.drop(columns=[\"author\", \"poem name\",\"type\"])"
      ],
      "execution_count": 23,
      "outputs": []
    },
    {
      "cell_type": "code",
      "metadata": {
        "colab": {
          "base_uri": "https://localhost:8080/",
          "height": 419
        },
        "id": "daT8FicISxC0",
        "outputId": "7b2bf95e-e3c9-4841-e31d-bc09896da85f"
      },
      "source": [
        "#####BURASI SİLİNEBİLİR\n",
        "df2"
      ],
      "execution_count": 24,
      "outputs": [
        {
          "output_type": "execute_result",
          "data": {
            "text/html": [
              "<div>\n",
              "<style scoped>\n",
              "    .dataframe tbody tr th:only-of-type {\n",
              "        vertical-align: middle;\n",
              "    }\n",
              "\n",
              "    .dataframe tbody tr th {\n",
              "        vertical-align: top;\n",
              "    }\n",
              "\n",
              "    .dataframe thead th {\n",
              "        text-align: right;\n",
              "    }\n",
              "</style>\n",
              "<table border=\"1\" class=\"dataframe\">\n",
              "  <thead>\n",
              "    <tr style=\"text-align: right;\">\n",
              "      <th></th>\n",
              "      <th>content</th>\n",
              "      <th>age</th>\n",
              "    </tr>\n",
              "  </thead>\n",
              "  <tbody>\n",
              "    <tr>\n",
              "      <th>0</th>\n",
              "      <td>Let the bird of loudest lay\\r\\nOn the sole Ara...</td>\n",
              "      <td>1</td>\n",
              "    </tr>\n",
              "    <tr>\n",
              "      <th>1</th>\n",
              "      <td>Sir Charles into my chamber coming in\\r\\nWhen ...</td>\n",
              "      <td>1</td>\n",
              "    </tr>\n",
              "    <tr>\n",
              "      <th>2</th>\n",
              "      <td>Our vice runs beyond all that old men saw\\r\\nA...</td>\n",
              "      <td>1</td>\n",
              "    </tr>\n",
              "    <tr>\n",
              "      <th>3</th>\n",
              "      <td>Lo I the man whose Muse whilome did maske\\r\\nA...</td>\n",
              "      <td>1</td>\n",
              "    </tr>\n",
              "    <tr>\n",
              "      <th>4</th>\n",
              "      <td>Long have I longd to see my love againe\\r\\nSti...</td>\n",
              "      <td>1</td>\n",
              "    </tr>\n",
              "    <tr>\n",
              "      <th>...</th>\n",
              "      <td>...</td>\n",
              "      <td>...</td>\n",
              "    </tr>\n",
              "    <tr>\n",
              "      <th>568</th>\n",
              "      <td>With the man I love who loves me not\\r\\nI walk...</td>\n",
              "      <td>0</td>\n",
              "    </tr>\n",
              "    <tr>\n",
              "      <th>569</th>\n",
              "      <td>Hart Crane Voyages I II III IV V VI from The C...</td>\n",
              "      <td>0</td>\n",
              "    </tr>\n",
              "    <tr>\n",
              "      <th>570</th>\n",
              "      <td>When you are old and grey and full of sleep\\r\\...</td>\n",
              "      <td>0</td>\n",
              "    </tr>\n",
              "    <tr>\n",
              "      <th>571</th>\n",
              "      <td>Give me hunger\\r\\nO you gods that sit and give...</td>\n",
              "      <td>0</td>\n",
              "    </tr>\n",
              "    <tr>\n",
              "      <th>572</th>\n",
              "      <td>Potuia potuia\\r\\nWhite grave goddess\\r\\nPity m...</td>\n",
              "      <td>0</td>\n",
              "    </tr>\n",
              "  </tbody>\n",
              "</table>\n",
              "<p>573 rows × 2 columns</p>\n",
              "</div>"
            ],
            "text/plain": [
              "                                               content  age\n",
              "0    Let the bird of loudest lay\\r\\nOn the sole Ara...    1\n",
              "1    Sir Charles into my chamber coming in\\r\\nWhen ...    1\n",
              "2    Our vice runs beyond all that old men saw\\r\\nA...    1\n",
              "3    Lo I the man whose Muse whilome did maske\\r\\nA...    1\n",
              "4    Long have I longd to see my love againe\\r\\nSti...    1\n",
              "..                                                 ...  ...\n",
              "568  With the man I love who loves me not\\r\\nI walk...    0\n",
              "569  Hart Crane Voyages I II III IV V VI from The C...    0\n",
              "570  When you are old and grey and full of sleep\\r\\...    0\n",
              "571  Give me hunger\\r\\nO you gods that sit and give...    0\n",
              "572  Potuia potuia\\r\\nWhite grave goddess\\r\\nPity m...    0\n",
              "\n",
              "[573 rows x 2 columns]"
            ]
          },
          "metadata": {
            "tags": []
          },
          "execution_count": 24
        }
      ]
    },
    {
      "cell_type": "code",
      "metadata": {
        "id": "7CBB9RRxS2Ec"
      },
      "source": [
        "#Here, I'm doing tokenization and converting the tokens into matrices.\n",
        "\n",
        "tokenizer=Tokenizer()\n",
        "tokenizer.fit_on_texts(df2[\"content\"])\n",
        "sequences=tokenizer.texts_to_sequences(df2[\"content\"])\n",
        "tokenized_df=tokenizer.texts_to_matrix(df2[\"content\"])\n",
        "word_index=tokenizer.word_index"
      ],
      "execution_count": 29,
      "outputs": []
    },
    {
      "cell_type": "code",
      "metadata": {
        "colab": {
          "base_uri": "https://localhost:8080/"
        },
        "id": "GAkj_dd4TFFY",
        "outputId": "93f5364f-aac1-4687-856b-058f6f231822"
      },
      "source": [
        "tokenized_df"
      ],
      "execution_count": 28,
      "outputs": [
        {
          "output_type": "execute_result",
          "data": {
            "text/plain": [
              "array([[0., 1., 1., ..., 0., 0., 0.],\n",
              "       [0., 1., 1., ..., 0., 0., 0.],\n",
              "       [0., 1., 1., ..., 0., 0., 0.],\n",
              "       ...,\n",
              "       [0., 1., 1., ..., 1., 1., 1.],\n",
              "       [0., 1., 1., ..., 0., 0., 0.],\n",
              "       [0., 1., 1., ..., 0., 0., 0.]])"
            ]
          },
          "metadata": {
            "tags": []
          },
          "execution_count": 28
        }
      ]
    },
    {
      "cell_type": "code",
      "metadata": {
        "id": "hRvNUPj2TdwC"
      },
      "source": [
        "#Now, I'm splitting the data as X and y, which represent independent and dependent variables of the data\n",
        "X=tokenized_df\n",
        "y=df[\"age\"]"
      ],
      "execution_count": 30,
      "outputs": []
    },
    {
      "cell_type": "code",
      "metadata": {
        "id": "YVY9Di8iUaYE"
      },
      "source": [
        "#Splitting the data as train and test sets\n",
        "X_train, X_test, y_train, y_test =train_test_split(X,y,test_size=0.2)"
      ],
      "execution_count": 32,
      "outputs": []
    },
    {
      "cell_type": "code",
      "metadata": {
        "id": "giBWDJ4aUeVT"
      },
      "source": [
        "X_train=tf.keras.preprocessing.sequence.pad_sequences(X_train, maxlen=300)\n",
        "X_test=tf.keras.preprocessing.sequence.pad_sequences(X_test, maxlen=300)"
      ],
      "execution_count": 33,
      "outputs": []
    },
    {
      "cell_type": "code",
      "metadata": {
        "id": "0aQNz3U7U1ep"
      },
      "source": [
        "#Constructing my model\n",
        "max_features=10\n",
        "callback = tf.keras.callbacks.EarlyStopping(monitor='val_loss', patience=20)\n",
        "model = tf.keras.Sequential([Embedding(input_dim=100, output_dim=128),\n",
        "                            LSTM(64,activation='relu', dropout=0.05, return_sequences=True),\n",
        "                            LSTM(64, activation=\"relu\",dropout=0.05,recurrent_dropout=0.05, return_sequences=True),\n",
        "                            LSTM(32, activation=\"relu\",dropout=0.05,recurrent_dropout=0.05),\n",
        "                            Dense(2, activation=\"relu\"),\n",
        "                            Dense(1, activation=\"sigmoid\")])\n",
        "opt=tf.keras.optimizers.RMSprop()\n",
        "model.compile(optimizer=opt, loss=\"binary_crossentropy\", metrics=[\"acc\"])"
      ],
      "execution_count": 37,
      "outputs": []
    },
    {
      "cell_type": "code",
      "metadata": {
        "colab": {
          "base_uri": "https://localhost:8080/"
        },
        "id": "9Sma0gFdU9ZW",
        "outputId": "9d15fb79-25b6-4c48-c399-1919f2141552"
      },
      "source": [
        "model.fit(X_train, y_train.values, epochs=100, batch_size=40, validation_split=0.1, callbacks=[callback])"
      ],
      "execution_count": 38,
      "outputs": [
        {
          "output_type": "stream",
          "text": [
            "Epoch 1/100\n",
            "11/11 [==============================] - 15s 767ms/step - loss: 0.6932 - acc: 0.5050 - val_loss: 0.6926 - val_acc: 0.6304\n",
            "Epoch 2/100\n",
            "11/11 [==============================] - 8s 697ms/step - loss: 0.6929 - acc: 0.5609 - val_loss: 0.6924 - val_acc: 0.6304\n",
            "Epoch 3/100\n",
            "11/11 [==============================] - 8s 699ms/step - loss: 0.6930 - acc: 0.5214 - val_loss: 0.6919 - val_acc: 0.6304\n",
            "Epoch 4/100\n",
            "11/11 [==============================] - 8s 688ms/step - loss: 0.6932 - acc: 0.5006 - val_loss: 0.6916 - val_acc: 0.6304\n",
            "Epoch 5/100\n",
            "11/11 [==============================] - 8s 691ms/step - loss: 0.6927 - acc: 0.5439 - val_loss: 0.6913 - val_acc: 0.6304\n",
            "Epoch 6/100\n",
            "11/11 [==============================] - 8s 686ms/step - loss: 0.6926 - acc: 0.5364 - val_loss: 0.6909 - val_acc: 0.6304\n",
            "Epoch 7/100\n",
            "11/11 [==============================] - 8s 683ms/step - loss: 0.6924 - acc: 0.5470 - val_loss: 0.6907 - val_acc: 0.6304\n",
            "Epoch 8/100\n",
            "11/11 [==============================] - 8s 684ms/step - loss: 0.6928 - acc: 0.5195 - val_loss: 0.6903 - val_acc: 0.6304\n",
            "Epoch 9/100\n",
            "11/11 [==============================] - 8s 686ms/step - loss: 0.6923 - acc: 0.5390 - val_loss: 0.6899 - val_acc: 0.6304\n",
            "Epoch 10/100\n",
            "11/11 [==============================] - 8s 683ms/step - loss: 0.6930 - acc: 0.5094 - val_loss: 0.6894 - val_acc: 0.6304\n",
            "Epoch 11/100\n",
            "11/11 [==============================] - 8s 693ms/step - loss: 0.6919 - acc: 0.5458 - val_loss: 0.6892 - val_acc: 0.6304\n",
            "Epoch 12/100\n",
            "11/11 [==============================] - 8s 685ms/step - loss: 0.6923 - acc: 0.5340 - val_loss: 0.6889 - val_acc: 0.6304\n",
            "Epoch 13/100\n",
            "11/11 [==============================] - 7s 681ms/step - loss: 0.6928 - acc: 0.5151 - val_loss: 0.6886 - val_acc: 0.6304\n",
            "Epoch 14/100\n",
            "11/11 [==============================] - 8s 688ms/step - loss: 0.6923 - acc: 0.5294 - val_loss: 0.6883 - val_acc: 0.6304\n",
            "Epoch 15/100\n",
            "11/11 [==============================] - 8s 697ms/step - loss: 0.6934 - acc: 0.4985 - val_loss: 0.6882 - val_acc: 0.6304\n",
            "Epoch 16/100\n",
            "11/11 [==============================] - 8s 689ms/step - loss: 0.6924 - acc: 0.5244 - val_loss: 0.6881 - val_acc: 0.6304\n",
            "Epoch 17/100\n",
            "11/11 [==============================] - 8s 693ms/step - loss: 0.6931 - acc: 0.5079 - val_loss: 0.6877 - val_acc: 0.6304\n",
            "Epoch 18/100\n",
            "11/11 [==============================] - 8s 686ms/step - loss: 0.6921 - acc: 0.5287 - val_loss: 0.6876 - val_acc: 0.6304\n",
            "Epoch 19/100\n",
            "11/11 [==============================] - 8s 694ms/step - loss: 0.6928 - acc: 0.5135 - val_loss: 0.6873 - val_acc: 0.6304\n",
            "Epoch 20/100\n",
            "11/11 [==============================] - 8s 682ms/step - loss: 0.6929 - acc: 0.5112 - val_loss: 0.6869 - val_acc: 0.6304\n",
            "Epoch 21/100\n",
            "11/11 [==============================] - 8s 688ms/step - loss: 0.6934 - acc: 0.5022 - val_loss: 0.6868 - val_acc: 0.6304\n",
            "Epoch 22/100\n",
            "11/11 [==============================] - 8s 695ms/step - loss: 0.6930 - acc: 0.5091 - val_loss: 0.6867 - val_acc: 0.6304\n",
            "Epoch 23/100\n",
            "11/11 [==============================] - 8s 704ms/step - loss: 0.6918 - acc: 0.5327 - val_loss: 0.6866 - val_acc: 0.6304\n",
            "Epoch 24/100\n",
            "11/11 [==============================] - 8s 703ms/step - loss: 0.6918 - acc: 0.5333 - val_loss: 0.6865 - val_acc: 0.6304\n",
            "Epoch 25/100\n",
            "11/11 [==============================] - 8s 703ms/step - loss: 0.6920 - acc: 0.5277 - val_loss: 0.6862 - val_acc: 0.6304\n",
            "Epoch 26/100\n",
            "11/11 [==============================] - 8s 703ms/step - loss: 0.6932 - acc: 0.5058 - val_loss: 0.6860 - val_acc: 0.6304\n",
            "Epoch 27/100\n",
            "11/11 [==============================] - 8s 714ms/step - loss: 0.6916 - acc: 0.5345 - val_loss: 0.6859 - val_acc: 0.6304\n",
            "Epoch 28/100\n",
            "11/11 [==============================] - 8s 717ms/step - loss: 0.6913 - acc: 0.5388 - val_loss: 0.6856 - val_acc: 0.6304\n",
            "Epoch 29/100\n",
            "11/11 [==============================] - 8s 711ms/step - loss: 0.6936 - acc: 0.5002 - val_loss: 0.6855 - val_acc: 0.6304\n",
            "Epoch 30/100\n",
            "11/11 [==============================] - 8s 703ms/step - loss: 0.6916 - acc: 0.5334 - val_loss: 0.6855 - val_acc: 0.6304\n",
            "Epoch 31/100\n",
            "11/11 [==============================] - 8s 724ms/step - loss: 0.6931 - acc: 0.5095 - val_loss: 0.6855 - val_acc: 0.6304\n",
            "Epoch 32/100\n",
            "11/11 [==============================] - 8s 715ms/step - loss: 0.6907 - acc: 0.5476 - val_loss: 0.6855 - val_acc: 0.6304\n",
            "Epoch 33/100\n",
            "11/11 [==============================] - 8s 712ms/step - loss: 0.6910 - acc: 0.5428 - val_loss: 0.6853 - val_acc: 0.6304\n",
            "Epoch 34/100\n",
            "11/11 [==============================] - 8s 711ms/step - loss: 0.6917 - acc: 0.5307 - val_loss: 0.6851 - val_acc: 0.6304\n",
            "Epoch 35/100\n",
            "11/11 [==============================] - 8s 703ms/step - loss: 0.6917 - acc: 0.5319 - val_loss: 0.6851 - val_acc: 0.6304\n",
            "Epoch 36/100\n",
            "11/11 [==============================] - 8s 716ms/step - loss: 0.6894 - acc: 0.5655 - val_loss: 0.6852 - val_acc: 0.6304\n",
            "Epoch 37/100\n",
            "11/11 [==============================] - 8s 714ms/step - loss: 0.6922 - acc: 0.5224 - val_loss: 0.6851 - val_acc: 0.6304\n",
            "Epoch 38/100\n",
            "11/11 [==============================] - 8s 720ms/step - loss: 0.6924 - acc: 0.5195 - val_loss: 0.6851 - val_acc: 0.6304\n",
            "Epoch 39/100\n",
            "11/11 [==============================] - 8s 710ms/step - loss: 0.6913 - acc: 0.5368 - val_loss: 0.6849 - val_acc: 0.6304\n",
            "Epoch 40/100\n",
            "11/11 [==============================] - 8s 710ms/step - loss: 0.6928 - acc: 0.5131 - val_loss: 0.6848 - val_acc: 0.6304\n",
            "Epoch 41/100\n",
            "11/11 [==============================] - 8s 711ms/step - loss: 0.6929 - acc: 0.5120 - val_loss: 0.6846 - val_acc: 0.6304\n",
            "Epoch 42/100\n",
            "11/11 [==============================] - 8s 712ms/step - loss: 0.6910 - acc: 0.5402 - val_loss: 0.6845 - val_acc: 0.6304\n",
            "Epoch 43/100\n",
            "11/11 [==============================] - 8s 714ms/step - loss: 0.6921 - acc: 0.5239 - val_loss: 0.6842 - val_acc: 0.6304\n",
            "Epoch 44/100\n",
            "11/11 [==============================] - 8s 720ms/step - loss: 0.6891 - acc: 0.5646 - val_loss: 0.6842 - val_acc: 0.6304\n",
            "Epoch 45/100\n",
            "11/11 [==============================] - 8s 714ms/step - loss: 0.6937 - acc: 0.5013 - val_loss: 0.6841 - val_acc: 0.6304\n",
            "Epoch 46/100\n",
            "11/11 [==============================] - 8s 721ms/step - loss: 0.6935 - acc: 0.5049 - val_loss: 0.6840 - val_acc: 0.6304\n",
            "Epoch 47/100\n",
            "11/11 [==============================] - 8s 717ms/step - loss: 0.6893 - acc: 0.5610 - val_loss: 0.6839 - val_acc: 0.6304\n",
            "Epoch 48/100\n",
            "11/11 [==============================] - 8s 718ms/step - loss: 0.6889 - acc: 0.5649 - val_loss: 0.6840 - val_acc: 0.6304\n",
            "Epoch 49/100\n",
            "11/11 [==============================] - 8s 715ms/step - loss: 0.6939 - acc: 0.5002 - val_loss: 0.6840 - val_acc: 0.6304\n",
            "Epoch 50/100\n",
            "11/11 [==============================] - 8s 716ms/step - loss: 0.6920 - acc: 0.5243 - val_loss: 0.6839 - val_acc: 0.6304\n",
            "Epoch 51/100\n",
            "11/11 [==============================] - 8s 721ms/step - loss: 0.6893 - acc: 0.5601 - val_loss: 0.6840 - val_acc: 0.6304\n",
            "Epoch 52/100\n",
            "11/11 [==============================] - 8s 728ms/step - loss: 0.6918 - acc: 0.5280 - val_loss: 0.6838 - val_acc: 0.6304\n",
            "Epoch 53/100\n",
            "11/11 [==============================] - 8s 727ms/step - loss: 0.6935 - acc: 0.5059 - val_loss: 0.6835 - val_acc: 0.6304\n",
            "Epoch 54/100\n",
            "11/11 [==============================] - 8s 717ms/step - loss: 0.6925 - acc: 0.5189 - val_loss: 0.6835 - val_acc: 0.6304\n",
            "Epoch 55/100\n",
            "11/11 [==============================] - 8s 708ms/step - loss: 0.6901 - acc: 0.5477 - val_loss: 0.6835 - val_acc: 0.6304\n",
            "Epoch 56/100\n",
            "11/11 [==============================] - 8s 709ms/step - loss: 0.6924 - acc: 0.5192 - val_loss: 0.6834 - val_acc: 0.6304\n",
            "Epoch 57/100\n",
            "11/11 [==============================] - 8s 716ms/step - loss: 0.6928 - acc: 0.5146 - val_loss: 0.6834 - val_acc: 0.6304\n",
            "Epoch 58/100\n",
            "11/11 [==============================] - 8s 714ms/step - loss: 0.6931 - acc: 0.5106 - val_loss: 0.6832 - val_acc: 0.6304\n",
            "Epoch 59/100\n",
            "11/11 [==============================] - 8s 717ms/step - loss: 0.6941 - acc: 0.4986 - val_loss: 0.6831 - val_acc: 0.6304\n",
            "Epoch 60/100\n",
            "11/11 [==============================] - 8s 713ms/step - loss: 0.6939 - acc: 0.5015 - val_loss: 0.6831 - val_acc: 0.6304\n",
            "Epoch 61/100\n",
            "11/11 [==============================] - 8s 704ms/step - loss: 0.6891 - acc: 0.5593 - val_loss: 0.6832 - val_acc: 0.6304\n",
            "Epoch 62/100\n",
            "11/11 [==============================] - 8s 721ms/step - loss: 0.6906 - acc: 0.5412 - val_loss: 0.6831 - val_acc: 0.6304\n",
            "Epoch 63/100\n",
            "11/11 [==============================] - 8s 718ms/step - loss: 0.6916 - acc: 0.5296 - val_loss: 0.6831 - val_acc: 0.6304\n",
            "Epoch 64/100\n",
            "11/11 [==============================] - 8s 707ms/step - loss: 0.6915 - acc: 0.5300 - val_loss: 0.6829 - val_acc: 0.6304\n",
            "Epoch 65/100\n",
            "11/11 [==============================] - 8s 707ms/step - loss: 0.6935 - acc: 0.5071 - val_loss: 0.6830 - val_acc: 0.6304\n",
            "Epoch 66/100\n",
            "11/11 [==============================] - 8s 705ms/step - loss: 0.6880 - acc: 0.5710 - val_loss: 0.6831 - val_acc: 0.6304\n",
            "Epoch 67/100\n",
            "11/11 [==============================] - 8s 714ms/step - loss: 0.6913 - acc: 0.5324 - val_loss: 0.6831 - val_acc: 0.6304\n",
            "Epoch 68/100\n",
            "11/11 [==============================] - 8s 727ms/step - loss: 0.6904 - acc: 0.5435 - val_loss: 0.6832 - val_acc: 0.6304\n",
            "Epoch 69/100\n",
            "11/11 [==============================] - 8s 702ms/step - loss: 0.6911 - acc: 0.5354 - val_loss: 0.6832 - val_acc: 0.6304\n",
            "Epoch 70/100\n",
            "11/11 [==============================] - 8s 712ms/step - loss: 0.6934 - acc: 0.5077 - val_loss: 0.6830 - val_acc: 0.6304\n",
            "Epoch 71/100\n",
            "11/11 [==============================] - 8s 723ms/step - loss: 0.6918 - acc: 0.5269 - val_loss: 0.6830 - val_acc: 0.6304\n",
            "Epoch 72/100\n",
            "11/11 [==============================] - 8s 720ms/step - loss: 0.6895 - acc: 0.5537 - val_loss: 0.6830 - val_acc: 0.6304\n",
            "Epoch 73/100\n",
            "11/11 [==============================] - 8s 723ms/step - loss: 0.6946 - acc: 0.4943 - val_loss: 0.6830 - val_acc: 0.6304\n",
            "Epoch 74/100\n",
            "11/11 [==============================] - 8s 726ms/step - loss: 0.6905 - acc: 0.5416 - val_loss: 0.6828 - val_acc: 0.6304\n",
            "Epoch 75/100\n",
            "11/11 [==============================] - 8s 719ms/step - loss: 0.6908 - acc: 0.5382 - val_loss: 0.6827 - val_acc: 0.6304\n",
            "Epoch 76/100\n",
            "11/11 [==============================] - 8s 727ms/step - loss: 0.6920 - acc: 0.5249 - val_loss: 0.6827 - val_acc: 0.6304\n",
            "Epoch 77/100\n",
            "11/11 [==============================] - 8s 708ms/step - loss: 0.6910 - acc: 0.5358 - val_loss: 0.6825 - val_acc: 0.6304\n",
            "Epoch 78/100\n",
            "11/11 [==============================] - 8s 717ms/step - loss: 0.6941 - acc: 0.5009 - val_loss: 0.6826 - val_acc: 0.6304\n",
            "Epoch 79/100\n",
            "11/11 [==============================] - 8s 715ms/step - loss: 0.6955 - acc: 0.4843 - val_loss: 0.6826 - val_acc: 0.6304\n",
            "Epoch 80/100\n",
            "11/11 [==============================] - 8s 713ms/step - loss: 0.6906 - acc: 0.5406 - val_loss: 0.6824 - val_acc: 0.6304\n",
            "Epoch 81/100\n",
            "11/11 [==============================] - 8s 703ms/step - loss: 0.6916 - acc: 0.5283 - val_loss: 0.6825 - val_acc: 0.6304\n",
            "Epoch 82/100\n",
            "11/11 [==============================] - 8s 717ms/step - loss: 0.6922 - acc: 0.5220 - val_loss: 0.6825 - val_acc: 0.6304\n",
            "Epoch 83/100\n",
            "11/11 [==============================] - 8s 718ms/step - loss: 0.6923 - acc: 0.5212 - val_loss: 0.6823 - val_acc: 0.6304\n",
            "Epoch 84/100\n",
            "11/11 [==============================] - 8s 717ms/step - loss: 0.6940 - acc: 0.5017 - val_loss: 0.6821 - val_acc: 0.6304\n",
            "Epoch 85/100\n",
            "11/11 [==============================] - 8s 717ms/step - loss: 0.6927 - acc: 0.5163 - val_loss: 0.6819 - val_acc: 0.6304\n",
            "Epoch 86/100\n",
            "11/11 [==============================] - 8s 723ms/step - loss: 0.6884 - acc: 0.5625 - val_loss: 0.6821 - val_acc: 0.6304\n",
            "Epoch 87/100\n",
            "11/11 [==============================] - 8s 716ms/step - loss: 0.6900 - acc: 0.5449 - val_loss: 0.6819 - val_acc: 0.6304\n",
            "Epoch 88/100\n",
            "11/11 [==============================] - 8s 720ms/step - loss: 0.6887 - acc: 0.5592 - val_loss: 0.6820 - val_acc: 0.6304\n",
            "Epoch 89/100\n",
            "11/11 [==============================] - 8s 708ms/step - loss: 0.6928 - acc: 0.5158 - val_loss: 0.6820 - val_acc: 0.6304\n",
            "Epoch 90/100\n",
            "11/11 [==============================] - 8s 721ms/step - loss: 0.6934 - acc: 0.5090 - val_loss: 0.6819 - val_acc: 0.6304\n",
            "Epoch 91/100\n",
            "11/11 [==============================] - 8s 711ms/step - loss: 0.6908 - acc: 0.5363 - val_loss: 0.6818 - val_acc: 0.6304\n",
            "Epoch 92/100\n",
            "11/11 [==============================] - 8s 712ms/step - loss: 0.6919 - acc: 0.5247 - val_loss: 0.6817 - val_acc: 0.6304\n",
            "Epoch 93/100\n",
            "11/11 [==============================] - 8s 705ms/step - loss: 0.6921 - acc: 0.5230 - val_loss: 0.6818 - val_acc: 0.6304\n",
            "Epoch 94/100\n",
            "11/11 [==============================] - 8s 709ms/step - loss: 0.6904 - acc: 0.5407 - val_loss: 0.6819 - val_acc: 0.6304\n",
            "Epoch 95/100\n",
            "11/11 [==============================] - 8s 709ms/step - loss: 0.6916 - acc: 0.5284 - val_loss: 0.6818 - val_acc: 0.6304\n",
            "Epoch 96/100\n",
            "11/11 [==============================] - 8s 705ms/step - loss: 0.6941 - acc: 0.5022 - val_loss: 0.6816 - val_acc: 0.6304\n",
            "Epoch 97/100\n",
            "11/11 [==============================] - 8s 704ms/step - loss: 0.6929 - acc: 0.5149 - val_loss: 0.6815 - val_acc: 0.6304\n",
            "Epoch 98/100\n",
            "11/11 [==============================] - 8s 706ms/step - loss: 0.6910 - acc: 0.5345 - val_loss: 0.6816 - val_acc: 0.6304\n",
            "Epoch 99/100\n",
            "11/11 [==============================] - 8s 716ms/step - loss: 0.6942 - acc: 0.5019 - val_loss: 0.6814 - val_acc: 0.6304\n",
            "Epoch 100/100\n",
            "11/11 [==============================] - 8s 708ms/step - loss: 0.6911 - acc: 0.5334 - val_loss: 0.6813 - val_acc: 0.6304\n"
          ],
          "name": "stdout"
        },
        {
          "output_type": "execute_result",
          "data": {
            "text/plain": [
              "<tensorflow.python.keras.callbacks.History at 0x7fbdf1f2a710>"
            ]
          },
          "metadata": {
            "tags": []
          },
          "execution_count": 38
        }
      ]
    },
    {
      "cell_type": "code",
      "metadata": {
        "colab": {
          "base_uri": "https://localhost:8080/"
        },
        "id": "yII7rIh1VBVJ",
        "outputId": "32a070b9-9060-4c7e-83fd-cf6479b9e287"
      },
      "source": [
        "model.evaluate(X_test, y_test)"
      ],
      "execution_count": 39,
      "outputs": [
        {
          "output_type": "stream",
          "text": [
            "4/4 [==============================] - 0s 83ms/step - loss: 0.6844 - acc: 0.6000\n"
          ],
          "name": "stdout"
        },
        {
          "output_type": "execute_result",
          "data": {
            "text/plain": [
              "[0.6843602657318115, 0.6000000238418579]"
            ]
          },
          "metadata": {
            "tags": []
          },
          "execution_count": 39
        }
      ]
    }
  ]
}